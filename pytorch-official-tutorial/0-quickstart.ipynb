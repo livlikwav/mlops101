{
 "cells": [
  {
   "cell_type": "markdown",
   "id": "4d6f80b5-8f73-4b11-ab61-c8f09d0f88c2",
   "metadata": {},
   "source": [
    "# QUICKSTART\n",
    "ML에 있어서 자주 등장하는 task를 실행해보자.\n",
    "각 섹션을 깊게 알아보는 것은, 앞으로 할 일이다."
   ]
  },
  {
   "cell_type": "markdown",
   "id": "847596fc-cdb7-48da-821c-2bc2d751931d",
   "metadata": {},
   "source": [
    "## Working with data\n",
    "데이터 다루는 원시 타입은 2가지이다. \n",
    "- `torch.utils.data.DataLoader`\n",
    "- `torch.utils.data.Dataset`"
   ]
  },
  {
   "cell_type": "code",
   "execution_count": 2,
   "id": "fc814f8e-ca96-412d-bee7-ed05d33a8c39",
   "metadata": {},
   "outputs": [],
   "source": [
    "import torch\n",
    "from torch import nn\n",
    "from torch.utils.data import DataLoader\n",
    "from torchvision import datasets\n",
    "from torchvision.transforms import ToTensor, Lambda, Compose\n",
    "import matplotlib.pyplot as plt"
   ]
  },
  {
   "cell_type": "markdown",
   "id": "12d45a75-2d22-43f5-8712-ac5248997414",
   "metadata": {},
   "source": [
    "### domain-specific libs\n",
    "파이토치는 domain-specific libraries를 제공한다\n",
    "- TorchText\n",
    "- TorchVision\n",
    "- TorchAudio\n",
    "각각 데이터셋도 가지고 있다."
   ]
  },
  {
   "cell_type": "code",
   "execution_count": 3,
   "id": "8e1b2bfc-3763-4885-8084-182617fa0dc3",
   "metadata": {},
   "outputs": [],
   "source": [
    "# Download training data from open datasets.\n",
    "training_data = datasets.FashionMNIST(\n",
    "    root=\"data\",\n",
    "    train=True,\n",
    "    download=True,\n",
    "    transform=ToTensor(),\n",
    ")\n",
    "\n",
    "# Download test data from open datasets.\n",
    "test_data = datasets.FashionMNIST(\n",
    "    root=\"data\",\n",
    "    train=False,\n",
    "    download=True,\n",
    "    transform=ToTensor(),\n",
    ")"
   ]
  },
  {
   "cell_type": "markdown",
   "id": "fffca9f8-48d5-488a-abff-47f972231b1b",
   "metadata": {},
   "source": [
    "우리는 `DataLoader`에 `Dataset`을 arg로 넘겨줄 것이다.\n",
    "이것은 데이터셋을 iterable로 래핑해준다.\n",
    "그리고 다음과 같은 것들을 지원한다.\n",
    "- automatic batching\n",
    "- sampling\n",
    "- shuffling\n",
    "- multiprocess data loading"
   ]
  },
  {
   "cell_type": "code",
   "execution_count": 4,
   "id": "154e8388-c0e1-4a7f-be69-c5276bd632e2",
   "metadata": {},
   "outputs": [
    {
     "name": "stdout",
     "output_type": "stream",
     "text": [
      "Shape of X [N, C, H, W]:  torch.Size([64, 1, 28, 28])\n",
      "Shape of y:  torch.Size([64]) torch.int64\n"
     ]
    }
   ],
   "source": [
    "batch_size = 64\n",
    "\n",
    "# Create data loaders.\n",
    "train_dataloader = DataLoader(training_data, batch_size=batch_size)\n",
    "test_dataloader = DataLoader(test_data, batch_size=batch_size)\n",
    "\n",
    "for X, y in test_dataloader:\n",
    "    print(\"Shape of X [N, C, H, W]: \", X.shape)\n",
    "    print(\"Shape of y: \", y.shape, y.dtype)\n",
    "    break"
   ]
  },
  {
   "cell_type": "markdown",
   "id": "22a606b2-20c1-4d21-bef6-4fc5210c7148",
   "metadata": {},
   "source": [
    "## Creating Models\n",
    "- `nn.Module`을 상속하여 신경망 클래스를 만든다.\n",
    "- `__init__` 함수에서 layers을 정의한다.\n",
    "- `forward()` 에서 데이터 전달 방법을 정의한다."
   ]
  },
  {
   "cell_type": "code",
   "execution_count": 5,
   "id": "833035d9-c1bb-4217-8ed5-a93750d8344d",
   "metadata": {},
   "outputs": [
    {
     "name": "stdout",
     "output_type": "stream",
     "text": [
      "Using cpu device\n",
      "NeuralNetwork(\n",
      "  (flatten): Flatten(start_dim=1, end_dim=-1)\n",
      "  (linear_relu_stack): Sequential(\n",
      "    (0): Linear(in_features=784, out_features=512, bias=True)\n",
      "    (1): ReLU()\n",
      "    (2): Linear(in_features=512, out_features=512, bias=True)\n",
      "    (3): ReLU()\n",
      "    (4): Linear(in_features=512, out_features=10, bias=True)\n",
      "    (5): ReLU()\n",
      "  )\n",
      ")\n"
     ]
    }
   ],
   "source": [
    "# Get cpu or gpu device for training.\n",
    "device = \"cuda\" if torch.cuda.is_available() else \"cpu\"\n",
    "print(\"Using {} device\".format(device))\n",
    "\n",
    "# Define model\n",
    "class NeuralNetwork(nn.Module):\n",
    "    def __init__(self):\n",
    "        super(NeuralNetwork, self).__init__()\n",
    "        self.flatten = nn.Flatten()\n",
    "        self.linear_relu_stack = nn.Sequential(\n",
    "            nn.Linear(28*28, 512),\n",
    "            nn.ReLU(),\n",
    "            nn.Linear(512, 512),\n",
    "            nn.ReLU(),\n",
    "            nn.Linear(512, 10),\n",
    "            nn.ReLU()\n",
    "        )\n",
    "\n",
    "    def forward(self, x):\n",
    "        x = self.flatten(x)\n",
    "        logits = self.linear_relu_stack(x)\n",
    "        return logits\n",
    "\n",
    "model = NeuralNetwork().to(device)\n",
    "print(model)"
   ]
  },
  {
   "cell_type": "markdown",
   "id": "ac94d8d8-c934-4ff6-a9e6-d91b5f1e1cf9",
   "metadata": {},
   "source": [
    "## Optimizing the Model Parameters\n",
    "모델 학습을 위해서 2가지가 필요하다\n",
    "- `loss function`\n",
    "- `optimizer`"
   ]
  },
  {
   "cell_type": "code",
   "execution_count": 6,
   "id": "e9615a98-5026-4b27-8f14-b84a91a6d466",
   "metadata": {},
   "outputs": [],
   "source": [
    "loss_fn = nn.CrossEntropyLoss()\n",
    "optimizer = torch.optim.SGD(model.parameters(), lr=1e-3)"
   ]
  },
  {
   "cell_type": "markdown",
   "id": "ce3ed0bb-2e98-49a0-8ddf-f4fd22924a03",
   "metadata": {},
   "source": [
    "학습 loop 한번 마다,\n",
    "모델은 training dataset에 예측을 수행한다.\n",
    "그리고 예측에러를 역전파하여 모델 파라미터를 개선시킨다"
   ]
  },
  {
   "cell_type": "code",
   "execution_count": 7,
   "id": "5e268980-41d9-4c9f-b350-4b795c3aa0f3",
   "metadata": {},
   "outputs": [],
   "source": [
    "def train(dataloader, model, loss_fn, optimizer):\n",
    "    size = len(dataloader.dataset)\n",
    "    for batch, (X, y) in enumerate(dataloader):\n",
    "        X, y = X.to(device), y.to(device)\n",
    "\n",
    "        # Compute prediction error\n",
    "        pred = model(X)\n",
    "        loss = loss_fn(pred, y)\n",
    "\n",
    "        # Backpropagation\n",
    "        optimizer.zero_grad()\n",
    "        loss.backward()\n",
    "        optimizer.step()\n",
    "\n",
    "        if batch % 100 == 0:\n",
    "            loss, current = loss.item(), batch * len(X)\n",
    "            print(f\"loss: {loss:>7f}  [{current:>5d}/{size:>5d}]\")"
   ]
  },
  {
   "cell_type": "markdown",
   "id": "343b805d-fada-4976-9e6b-3a02d8425a7e",
   "metadata": {},
   "source": [
    "우리는 test dataset을 통해서 학습이 잘 되었는지 모델 퍼포먼스도 체크해야한다"
   ]
  },
  {
   "cell_type": "code",
   "execution_count": 8,
   "id": "162aad6d-0a33-45d8-a158-470f4c36b17c",
   "metadata": {},
   "outputs": [],
   "source": [
    "def test(dataloader, model):\n",
    "    size = len(dataloader.dataset)\n",
    "    model.eval()\n",
    "    test_loss, correct = 0, 0\n",
    "    with torch.no_grad():\n",
    "        for X, y in dataloader:\n",
    "            X, y = X.to(device), y.to(device)\n",
    "            pred = model(X)\n",
    "            test_loss += loss_fn(pred, y).item()\n",
    "            correct += (pred.argmax(1) == y).type(torch.float).sum().item()\n",
    "    test_loss /= size\n",
    "    correct /= size\n",
    "    print(f\"Test Error: \\n Accuracy: {(100*correct):>0.1f}%, Avg loss: {test_loss:>8f} \\n\")"
   ]
  },
  {
   "cell_type": "markdown",
   "id": "a8b35eb5-6640-4bc2-8e10-8ccf6a74dad8",
   "metadata": {},
   "source": [
    "학습 과정은 몇번의 iteration으로 실행된다(epochs).  \n",
    "각 Epoch 동안, 모델은 더 나은 예측을 만들어낼 수 있는 파라미터를 학습한다.  \n",
    "매 epoch 마다 모델의 accuracy와 loss를 출력하자;  \n",
    "매 epoch 마다 accuracy가 증가하고, loss가 감소하는 것을 확인하길 원한다"
   ]
  },
  {
   "cell_type": "code",
   "execution_count": 9,
   "id": "d3b898bf-b28d-4d64-a998-a256578422a6",
   "metadata": {},
   "outputs": [
    {
     "name": "stdout",
     "output_type": "stream",
     "text": [
      "Epoch 1\n",
      "-------------------------------\n",
      "loss: 2.300197  [    0/60000]\n",
      "loss: 2.295542  [ 6400/60000]\n",
      "loss: 2.284127  [12800/60000]\n",
      "loss: 2.286937  [19200/60000]\n",
      "loss: 2.280819  [25600/60000]\n",
      "loss: 2.254400  [32000/60000]\n",
      "loss: 2.267013  [38400/60000]\n",
      "loss: 2.239463  [44800/60000]\n",
      "loss: 2.232718  [51200/60000]\n",
      "loss: 2.214593  [57600/60000]\n",
      "Test Error: \n",
      " Accuracy: 34.4%, Avg loss: 0.034966 \n",
      "\n",
      "Epoch 2\n",
      "-------------------------------\n",
      "loss: 2.213126  [    0/60000]\n",
      "loss: 2.226512  [ 6400/60000]\n",
      "loss: 2.182720  [12800/60000]\n",
      "loss: 2.214651  [19200/60000]\n",
      "loss: 2.194373  [25600/60000]\n",
      "loss: 2.120463  [32000/60000]\n",
      "loss: 2.171832  [38400/60000]\n",
      "loss: 2.112094  [44800/60000]\n",
      "loss: 2.117056  [51200/60000]\n",
      "loss: 2.067624  [57600/60000]\n",
      "Test Error: \n",
      " Accuracy: 36.0%, Avg loss: 0.033101 \n",
      "\n",
      "Epoch 3\n",
      "-------------------------------\n",
      "loss: 2.079744  [    0/60000]\n",
      "loss: 2.111070  [ 6400/60000]\n",
      "loss: 2.024653  [12800/60000]\n",
      "loss: 2.102195  [19200/60000]\n",
      "loss: 2.050222  [25600/60000]\n",
      "loss: 1.920347  [32000/60000]\n",
      "loss: 2.023580  [38400/60000]\n",
      "loss: 1.922338  [44800/60000]\n",
      "loss: 1.953039  [51200/60000]\n",
      "loss: 1.863482  [57600/60000]\n",
      "Test Error: \n",
      " Accuracy: 38.3%, Avg loss: 0.030576 \n",
      "\n",
      "Epoch 4\n",
      "-------------------------------\n",
      "loss: 1.893077  [    0/60000]\n",
      "loss: 1.958372  [ 6400/60000]\n",
      "loss: 1.828263  [12800/60000]\n",
      "loss: 1.965348  [19200/60000]\n",
      "loss: 1.890922  [25600/60000]\n",
      "loss: 1.719650  [32000/60000]\n",
      "loss: 1.865661  [38400/60000]\n",
      "loss: 1.744542  [44800/60000]\n",
      "loss: 1.786499  [51200/60000]\n",
      "loss: 1.684101  [57600/60000]\n",
      "Test Error: \n",
      " Accuracy: 39.9%, Avg loss: 0.028379 \n",
      "\n",
      "Epoch 5\n",
      "-------------------------------\n",
      "loss: 1.715792  [    0/60000]\n",
      "loss: 1.829647  [ 6400/60000]\n",
      "loss: 1.670453  [12800/60000]\n",
      "loss: 1.854484  [19200/60000]\n",
      "loss: 1.773357  [25600/60000]\n",
      "loss: 1.582440  [32000/60000]\n",
      "loss: 1.744859  [38400/60000]\n",
      "loss: 1.622625  [44800/60000]\n",
      "loss: 1.668172  [51200/60000]\n",
      "loss: 1.565138  [57600/60000]\n",
      "Test Error: \n",
      " Accuracy: 40.9%, Avg loss: 0.026857 \n",
      "\n",
      "Done!\n"
     ]
    }
   ],
   "source": [
    "epochs = 5\n",
    "for t in range(epochs):\n",
    "    print(f\"Epoch {t+1}\\n-------------------------------\")\n",
    "    train(train_dataloader, model, loss_fn, optimizer)\n",
    "    test(test_dataloader, model)\n",
    "print(\"Done!\")"
   ]
  },
  {
   "cell_type": "markdown",
   "id": "efae9db2-68ea-46e1-acb3-48dc8e695b21",
   "metadata": {},
   "source": [
    "## Saving Models\n",
    "모델을 저장하는 범용적인 방법은  \n",
    "내부 상태 사전 자료형을 serialize하는 것이다(모델 파라미터를 포함한)."
   ]
  },
  {
   "cell_type": "code",
   "execution_count": 10,
   "id": "5ae54411-a71c-4bf8-953c-05d93c238a3d",
   "metadata": {},
   "outputs": [
    {
     "name": "stdout",
     "output_type": "stream",
     "text": [
      "Saved Pytorch Model State to model.pth\n"
     ]
    }
   ],
   "source": [
    "torch.save(model.state_dict(), \"model.pth\") # pth 파일로 serialize 하고 있음\n",
    "print(\"Saved Pytorch Model State to model.pth\")"
   ]
  },
  {
   "cell_type": "markdown",
   "id": "b0e7ef2b-4b83-4f35-adc3-87e7505910ab",
   "metadata": {},
   "source": [
    "## Loading Models\n",
    "모델을 불러오는 과정은  \n",
    "모델 구조를 새로 생성하고, 상태 사전 자료형을 그것에 불러오는 것을 포함한다."
   ]
  },
  {
   "cell_type": "code",
   "execution_count": 12,
   "id": "8646764a-2d5b-4582-a8f1-21bfcec94b10",
   "metadata": {},
   "outputs": [
    {
     "data": {
      "text/plain": [
       "<All keys matched successfully>"
      ]
     },
     "execution_count": 12,
     "metadata": {},
     "output_type": "execute_result"
    }
   ],
   "source": [
    "model = NeuralNetwork() # 기존 모델 구조 클래스로 새로운 인스턴스를 생성. 이러면 pth 외에 소스 코드도 필요하겠네..!\n",
    "model.load_state_dict(torch.load(\"model.pth\"))"
   ]
  },
  {
   "cell_type": "markdown",
   "id": "2ad68731-714a-475b-8424-d519893f1cb2",
   "metadata": {},
   "source": [
    "이제 모델을 불러왔으니 예측에 사용할 수 있다"
   ]
  },
  {
   "cell_type": "code",
   "execution_count": 14,
   "id": "bc20a22f-d7f5-424f-9f6d-3723248345ab",
   "metadata": {},
   "outputs": [
    {
     "name": "stdout",
     "output_type": "stream",
     "text": [
      "Predicted: \"Ankle boot\", Actual: \"Ankle boot\"\n"
     ]
    }
   ],
   "source": [
    "classes = [\n",
    "    \"T-shirt/top\",\n",
    "    \"Trouser\",\n",
    "    \"Pullover\",\n",
    "    \"Dress\",\n",
    "    \"Coat\",\n",
    "    \"Sandal\",\n",
    "    \"Shirt\",\n",
    "    \"Sneaker\",\n",
    "    \"Bag\",\n",
    "    \"Ankle boot\",\n",
    "]\n",
    "\n",
    "model.eval()\n",
    "x, y = test_data[0][0], test_data[0][1] # feature와 label\n",
    "with torch.no_grad():\n",
    "    pred = model(x)\n",
    "    predicted, actual = classes[pred[0].argmax(0)], classes[y] # one hot vector에서 argmax로 분류 결과값 찾음\n",
    "    print(f'Predicted: \"{predicted}\", Actual: \"{actual}\"')"
   ]
  }
 ],
 "metadata": {
  "kernelspec": {
   "display_name": "Python 3",
   "language": "python",
   "name": "python3"
  },
  "language_info": {
   "codemirror_mode": {
    "name": "ipython",
    "version": 3
   },
   "file_extension": ".py",
   "mimetype": "text/x-python",
   "name": "python",
   "nbconvert_exporter": "python",
   "pygments_lexer": "ipython3",
   "version": "3.9.1"
  }
 },
 "nbformat": 4,
 "nbformat_minor": 5
}
