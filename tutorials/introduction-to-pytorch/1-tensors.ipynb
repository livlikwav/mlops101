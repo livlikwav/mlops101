{
 "cells": [
  {
   "cell_type": "markdown",
   "id": "2e7d7b92-10ad-43fd-b4db-2b0571174b8b",
   "metadata": {},
   "source": [
    "# Tensors\n",
    "Tensor와 Numpy array는 Bridge를 통해 편하게 변환하여 사용할 수 있다."
   ]
  },
  {
   "cell_type": "code",
   "execution_count": 2,
   "id": "9400b669-72bb-46ed-afd6-6beed44f213e",
   "metadata": {},
   "outputs": [],
   "source": [
    "import torch\n",
    "import numpy as np"
   ]
  },
  {
   "cell_type": "markdown",
   "id": "dc15e16b-5442-47c9-ad65-fa212e110491",
   "metadata": {},
   "source": [
    "## Tensor 초기화하는 예제들"
   ]
  },
  {
   "cell_type": "code",
   "execution_count": 4,
   "id": "0124cc2e-f9bd-46f2-824c-f025485fba0e",
   "metadata": {},
   "outputs": [
    {
     "data": {
      "text/plain": [
       "tensor([[1, 2],\n",
       "        [3, 4]])"
      ]
     },
     "execution_count": 4,
     "metadata": {},
     "output_type": "execute_result"
    }
   ],
   "source": [
    "# directly from data\n",
    "data = [[1, 2], [3, 4]]\n",
    "x_data = torch.tensor(data)\n",
    "x_data"
   ]
  },
  {
   "cell_type": "code",
   "execution_count": 6,
   "id": "08118eb9-67ed-46c9-8541-ff936e813495",
   "metadata": {},
   "outputs": [
    {
     "data": {
      "text/plain": [
       "tensor([[1, 2],\n",
       "        [3, 4]])"
      ]
     },
     "execution_count": 6,
     "metadata": {},
     "output_type": "execute_result"
    }
   ],
   "source": [
    "# from a numpy array\n",
    "np_array = np.array(data)\n",
    "x_np = torch.from_numpy(np_array)\n",
    "x_np"
   ]
  },
  {
   "cell_type": "code",
   "execution_count": 7,
   "id": "a3592fde-50e9-47a2-92b1-06b22f943946",
   "metadata": {},
   "outputs": [
    {
     "name": "stdout",
     "output_type": "stream",
     "text": [
      "tensor([[1, 1],\n",
      "        [1, 1]])\n",
      "tensor([[0.6775, 0.4384],\n",
      "        [0.2961, 0.0464]])\n"
     ]
    }
   ],
   "source": [
    "# from another tensor\n",
    "x_ones = torch.ones_like(x_data)\n",
    "print(x_ones)\n",
    "\n",
    "x_rand = torch.rand_like(x_data, dtype=torch.float)\n",
    "print(x_rand)"
   ]
  },
  {
   "cell_type": "code",
   "execution_count": 8,
   "id": "1cbae49c-437e-41d5-8cfb-661c9dc89fb5",
   "metadata": {},
   "outputs": [
    {
     "name": "stdout",
     "output_type": "stream",
     "text": [
      "tensor([[0.5917, 0.4252, 0.2550],\n",
      "        [0.3278, 0.2867, 0.2517]])\n",
      "tensor([[1., 1., 1.],\n",
      "        [1., 1., 1.]])\n",
      "tensor([[0., 0., 0.],\n",
      "        [0., 0., 0.]])\n"
     ]
    }
   ],
   "source": [
    "# with random or constant values\n",
    "shape = (2, 3,)\n",
    "rand_tensor = torch.rand(shape)\n",
    "ones_tensor = torch.ones(shape)\n",
    "zeros_tensor = torch.zeros(shape)\n",
    "\n",
    "print(rand_tensor)\n",
    "print(ones_tensor)\n",
    "print(zeros_tensor)"
   ]
  },
  {
   "cell_type": "markdown",
   "id": "a4630e47-9ea8-4300-9e5e-75e3100e2d1e",
   "metadata": {},
   "source": [
    "## 텐서의 속성"
   ]
  },
  {
   "cell_type": "code",
   "execution_count": 9,
   "id": "a9fbe55d-17e7-498e-adec-7fb86f9dc5fd",
   "metadata": {},
   "outputs": [
    {
     "name": "stdout",
     "output_type": "stream",
     "text": [
      "torch.Size([3, 4])\n",
      "torch.float32\n",
      "cpu\n"
     ]
    }
   ],
   "source": [
    "tensor = torch.rand(3, 4)\n",
    "\n",
    "print(tensor.shape)\n",
    "print(tensor.dtype)\n",
    "print(tensor.device)"
   ]
  },
  {
   "cell_type": "markdown",
   "id": "682c7ba0-66e9-4735-943d-7eb000688992",
   "metadata": {},
   "source": [
    "## 텐서의 명령"
   ]
  },
  {
   "cell_type": "code",
   "execution_count": 12,
   "id": "3e987599-07fb-443f-9255-41327cb61a23",
   "metadata": {},
   "outputs": [
    {
     "name": "stdout",
     "output_type": "stream",
     "text": [
      "Before: cpu\n",
      "After: cpu\n"
     ]
    }
   ],
   "source": [
    "print(f\"Before: {tensor.device}\")\n",
    "if torch.cuda.is_available():\n",
    "    tensor = tensor.to('cuda')\n",
    "print(f\"After: {tensor.device}\")"
   ]
  },
  {
   "cell_type": "code",
   "execution_count": 13,
   "id": "efa64510-3c8e-41ff-9fdc-f5132d6c0439",
   "metadata": {},
   "outputs": [
    {
     "data": {
      "text/plain": [
       "False"
      ]
     },
     "execution_count": 13,
     "metadata": {},
     "output_type": "execute_result"
    }
   ],
   "source": [
    "torch.cuda.is_available()\n",
    "# 내 맥북은 nvidia GPU가 없을 뿐더러, 애초에 nvidia와 apple이랑 결별한지 좀 됨"
   ]
  }
 ],
 "metadata": {
  "kernelspec": {
   "display_name": "Python 3",
   "language": "python",
   "name": "python3"
  },
  "language_info": {
   "codemirror_mode": {
    "name": "ipython",
    "version": 3
   },
   "file_extension": ".py",
   "mimetype": "text/x-python",
   "name": "python",
   "nbconvert_exporter": "python",
   "pygments_lexer": "ipython3",
   "version": "3.9.1"
  }
 },
 "nbformat": 4,
 "nbformat_minor": 5
}
